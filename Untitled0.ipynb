{
 "metadata": {
  "name": "",
  "signature": "sha256:540bd62e015ee0f0ece03fabaeff097a3d09a38add40b39dec7636caab040f65"
 },
 "nbformat": 3,
 "nbformat_minor": 0,
 "worksheets": [
  {
   "cells": [
    {
     "cell_type": "code",
     "collapsed": false,
     "input": [
      "import numpy as np\n",
      "import pandas as pd\n",
      "import matplotlib.pyplot as plt\n",
      "from scipy.optimize import curve_fit\n",
      "from astropy import units as u\n",
      "import astropy as ap\n",
      "from astropy.coordinates import SkyCoord\n",
      "from astropy import cosmology\n",
      "from astropy.cosmology import WMAP7\n",
      "import matplotlib.cm as cm"
     ],
     "language": "python",
     "metadata": {},
     "outputs": [],
     "prompt_number": 1
    },
    {
     "cell_type": "code",
     "collapsed": false,
     "input": [
      "solar_lum = np.log10(2.734*10**17) #log(W/Hz) at 1.4GHz\n",
      "c = 3 * 10 ** 5 #km/s\n",
      "#1 Mega pc = 10**3 kpc\n",
      "#z=0.9 cosmo.kpc_proper_per_arcmin(0.9) = 472.97709620405266 kpc / arcmin\n",
      "#approx 0.063 arcmin\n",
      "#500 / cosmo.kpc_proper_per_arcmin(0.8) "
     ],
     "language": "python",
     "metadata": {},
     "outputs": [],
     "prompt_number": 3
    },
    {
     "cell_type": "code",
     "collapsed": false,
     "input": [
      "H0 = ap.cosmology.H(0)\n",
      "#import astropy\n",
      "#cosmology.kpc_proper_per_arcmin(3)  "
     ],
     "language": "python",
     "metadata": {},
     "outputs": [
      {
       "ename": "AttributeError",
       "evalue": "'module' object has no attribute 'H'",
       "output_type": "pyerr",
       "traceback": [
        "\u001b[0;31m---------------------------------------------------------------------------\u001b[0m\n\u001b[0;31mAttributeError\u001b[0m                            Traceback (most recent call last)",
        "\u001b[0;32m<ipython-input-21-613527d48daf>\u001b[0m in \u001b[0;36m<module>\u001b[0;34m()\u001b[0m\n\u001b[0;32m----> 1\u001b[0;31m \u001b[0mH0\u001b[0m \u001b[0;34m=\u001b[0m \u001b[0map\u001b[0m\u001b[0;34m.\u001b[0m\u001b[0mcosmology\u001b[0m\u001b[0;34m.\u001b[0m\u001b[0mH\u001b[0m\u001b[0;34m(\u001b[0m\u001b[0;36m0\u001b[0m\u001b[0;34m)\u001b[0m\u001b[0;34m\u001b[0m\u001b[0m\n\u001b[0m\u001b[1;32m      2\u001b[0m \u001b[0;31m#import astropy\u001b[0m\u001b[0;34m\u001b[0m\u001b[0;34m\u001b[0m\u001b[0m\n\u001b[1;32m      3\u001b[0m \u001b[0;31m#cosmology.kpc_proper_per_arcmin(3)\u001b[0m\u001b[0;34m\u001b[0m\u001b[0;34m\u001b[0m\u001b[0m\n",
        "\u001b[0;31mAttributeError\u001b[0m: 'module' object has no attribute 'H'"
       ]
      }
     ],
     "prompt_number": 21
    },
    {
     "cell_type": "code",
     "collapsed": false,
     "input": [
      "def calR200(z=0, vel=0):\n",
      "    Hz = WMAP7.H(z) #[km/Mpc s]\n",
      "    cosmo.kpc_proper_per_arcmin\n",
      "    #cRho = WMAP7.critical_density(z)\n",
      "    #M = (4/3)*pi*r200**3 * 200 * cRho\n",
      "    r200 = np.sqrt(3) * vel / (10 * Hz) #vel in [km/s] \n",
      "    r200.value \n",
      "    return r200.value"
     ],
     "language": "python",
     "metadata": {},
     "outputs": [],
     "prompt_number": 4
    },
    {
     "cell_type": "code",
     "collapsed": false,
     "input": [
      "del matches"
     ],
     "language": "python",
     "metadata": {},
     "outputs": [],
     "prompt_number": 28
    },
    {
     "cell_type": "code",
     "collapsed": false,
     "input": [
      "#import radio data\n",
      "matches_file = 'Cl0023_1arcsec_matches.cat'\n",
      "cols_name = ['radio_ID','radio_RA','radio_DEC','lum','number','flag','photo_ID','ra','dec','z','slitmask','slitnum','spec_z']\n",
      "matches_data = pd.read_csv(matches_file, sep='\\s+', names=cols_name, comment='#')\n",
      "matches = pd.DataFrame(matches_data)\n",
      "circles = ((6.02560,4.3590),(5.97570,4.3884),(5.96970,4.3820),(5.92470,4.3807),(5.96740,4.3199))\n",
      "centerZ = (0.8396, 0.8290, 0.8453, 0.8466, 0.8472)\n",
      "vel = (507.0, 106.2, 231.3, 543.8, 487.3)\n",
      "velErr = (125.5, 51.4, 53.8, 58.7, 84.8)\n",
      "#km/s using the max velocity dispersion 0.5Mpc\n",
      "deltaZ = 3 * np.divide(vel, c)\n",
      "label = ['A', 'B1','B2', 'C', 'M']"
     ],
     "language": "python",
     "metadata": {},
     "outputs": [],
     "prompt_number": 29
    },
    {
     "cell_type": "code",
     "collapsed": false,
     "input": [
      "r200 = np.zeros(len(centerZ))\n",
      "for i in range(len(centerZ)):\n",
      "    r200[i] = calR200(centerZ[i], vel[i]) #[Mpc]\n",
      "#convert Mpc to arcmin\n"
     ],
     "language": "python",
     "metadata": {},
     "outputs": [],
     "prompt_number": 25
    },
    {
     "cell_type": "code",
     "collapsed": false,
     "input": [
      "r200"
     ],
     "language": "python",
     "metadata": {},
     "outputs": [
      {
       "metadata": {},
       "output_type": "pyout",
       "prompt_number": 19,
       "text": [
        "array([ 0.80147655,  0.16890178,  0.36445721,  0.8562255 ,  0.7670025 ])"
       ]
      }
     ],
     "prompt_number": 19
    },
    {
     "cell_type": "code",
     "collapsed": false,
     "input": [
      "photoMask = (matches['flag'] == 1)\n",
      "specMask = (matches['flag'] == 3)\n",
      "\n",
      "ra_photo = np.array(matches.loc[photoMask,'radio_RA'])\n",
      "dec_photo = np.array(matches.loc[photoMask,'radio_DEC'])\n",
      "dis_photo = ap.coordinates.Distance(z=matches.loc[photoMask,'z'])\n",
      "\n",
      "ra_spec = np.array(matches.loc[specMask,'radio_RA'])\n",
      "dec_spec = np.array(matches.loc[specMask,'radio_DEC'])\n",
      "dis_spec = ap.coordinates.Distance(z=matches.loc[specMask,'spec_z'])\n",
      "\n",
      "dis_center = ap.coordinates.Distance(z=centerZ)\n",
      "\n",
      "#match to coord\n",
      "coord_photo = SkyCoord(ra_photo*u.degree, dec_photo*u.degree, distance=dis_photo)\n",
      "coord_spec = SkyCoord(ra_spec*u.degree, dec_spec*u.degree, distance=dis_spec)\n",
      "coord_center = SkyCoord(circles*u.degree, distance=dis_center)\n",
      "\n",
      "idx_spec, d2d_spec, d3d_spec = coord_spec.match_to_catalog_sky(coord_center)  \n",
      "idx_photo, d2d_photo, d3d_photo = coord_photo.match_to_catalog_sky(coord_center)\n",
      "\n",
      "matches.loc[photoMask, 'idx'] = idx_photo\n",
      "matches.loc[photoMask, 'd2d(arcmin)'] = d2d_photo.arcmin\n",
      "matches.loc[photoMask, 'd3d'] = d3d_photo\n",
      "matches.loc[specMask, 'idx'] = idx_spec\n",
      "matches.loc[specMask, 'd2d(arcmin)'] = d2d_spec.arcmin\n",
      "matches.loc[specMask, 'd3d'] = d3d_spec\n",
      "\"\"\"\n",
      "for i in range(len(circles)):\n",
      "    mask = (matches['idx'] == i)\n",
      "    maskReal = (matches['idx'] == i) & (matches['d2d(arcmin)'] < 1.09) & (matches['spec_z'] < (centerZ[i] + deltaZ[i])) & (matches['spec_z'] > (centerZ[i] - deltaZ[i]))\n",
      "    \n",
      "    char =  np.chararray(len(matches[maskReal]))\n",
      "    char[:] = label[i]\n",
      "    print len(char)\n",
      "    matches.loc[maskReal,'idx'] = char\n",
      "\n",
      "out = matches[specMask | photoMask]\n",
      "#out['idx'] = out['idx'].astype('int')\n",
      "out.to_csv('../RadioOffset/Cl0023.cat', sep='\\t', float_format='%.5f', index=False)\n",
      "\"\"\""
     ],
     "language": "python",
     "metadata": {},
     "outputs": [
      {
       "metadata": {},
       "output_type": "pyout",
       "prompt_number": 30,
       "text": [
        "\"\\nfor i in range(len(circles)):\\n    mask = (matches['idx'] == i)\\n    maskReal = (matches['idx'] == i) & (matches['d2d(arcmin)'] < 1.09) & (matches['spec_z'] < (centerZ[i] + deltaZ[i])) & (matches['spec_z'] > (centerZ[i] - deltaZ[i]))\\n    \\n    char =  np.chararray(len(matches[maskReal]))\\n    char[:] = label[i]\\n    print len(char)\\n    matches.loc[maskReal,'idx'] = char\\n\\nout = matches[specMask | photoMask]\\n#out['idx'] = out['idx'].astype('int')\\nout.to_csv('../RadioOffset/Cl0023.cat', sep='\\t', float_format='%.5f', index=False)\\n\""
       ]
      }
     ],
     "prompt_number": 30
    },
    {
     "cell_type": "code",
     "collapsed": false,
     "input": [
      "matches.columns\n"
     ],
     "language": "python",
     "metadata": {},
     "outputs": [
      {
       "metadata": {},
       "output_type": "pyout",
       "prompt_number": 31,
       "text": [
        "Index([u'radio_ID', u'radio_RA', u'radio_DEC', u'lum', u'number', u'flag', u'photo_ID', u'ra', u'dec', u'z', u'slitmask', u'slitnum', u'spec_z', u'idx', u'd2d(arcmin)', u'd3d'], dtype='object')"
       ]
      }
     ],
     "prompt_number": 31
    },
    {
     "cell_type": "code",
     "collapsed": false,
     "input": [
      "colors = ['red','orange','g','b', 'c', 'y', 'm','k']\n",
      "\n",
      "markSize_photo = (np.array(matches.loc[photoMask, 'lum']) - solar_lum)**3\n",
      "markSize_spec = (np.array(matches.loc[specMask, 'lum']) - solar_lum)**3\n",
      "\n",
      "f, ax = plt.subplots(1, 1, figsize=(12,16))\n",
      "ax.set_title('%s Radio Offset Scatter'%('Cl0023'), fontsize='large')\n",
      "for i in range(len(circles)):\n",
      "    mask = (idx_photo == i)\n",
      "    mask_spec = (idx_spec == i)\n",
      "    mask_real = (matches['idx'] == label[i])\n",
      "    markS = (np.array(matches.loc[mask_real, 'lum']) - solar_lum)**3\n",
      "    # circle need be considered\n",
      "    ax.scatter(ra_photo[mask], dec_photo[mask], facecolors='none', edgecolors=colors[i], s=markSize_photo[mask]/4, marker='o',label='Photometric')\n",
      "    ax.scatter(ra_spec[mask_spec], dec_spec[mask_spec], facecolors='none', edgecolors=colors[i], s=markSize_spec[mask_spec], marker='*', label='Spectroscopy')\n",
      "    ax.scatter(matches.loc[mask_real, 'radio_RA'], matches.loc[mask_real, 'radio_DEC'], c=colors[i], s=markS, marker='*')\n",
      "    circle = plt.Circle(circles[i],0.016, color=colors[i], fill=False, linestyle='dashed', label='%s'%(i+1))\n",
      "    ax.annotate('%s'%label[i], xy=(circles[i][0], circles[i][1]),xycoords='data',color=colors[i], xytext=(-15, 10), textcoords='offset points', horizontalalignment='left', verticalalignment='top',fontsize=12)\n",
      "    plt.gca().add_artist(circle)\n",
      "#ad annotation for photo & spec\n",
      "plt.gca().invert_xaxis()\n",
      "plt.xlabel('RA')\n",
      "plt.ylabel('Dec')   \n",
      "plt.show()"
     ],
     "language": "python",
     "metadata": {},
     "outputs": [],
     "prompt_number": 8
    },
    {
     "cell_type": "code",
     "collapsed": false,
     "input": [
      "plt.title(\"Cl0023 Histogram of offset from clusters/groups\")\n",
      "plt.hist(d2d_spec.arcmin, bins=25, range=(0,18), alpha=0.5, color='r', label='Radio with Spectroscopy counterpart')\n",
      "plt.hist(d2d_photo.arcmin, bins=25, range=(0,18), alpha=0.5, color='b', label='Radio with Photometric counterpart')\n",
      "plt.xlabel('Sepertaion(arcmin)')\n",
      "plt.ylabel('Num of objects')\n",
      "plt.legend(fontsize='small')\n",
      "plt.show()"
     ],
     "language": "python",
     "metadata": {},
     "outputs": [],
     "prompt_number": 22
    },
    {
     "cell_type": "code",
     "collapsed": false,
     "input": [
      "#plot deltaV/sigmaV vs r/r200\n",
      "from astropy import cosmology\n",
      "f, ax = plt.subplots(1, 1, figsize=(12,16))\n",
      "ax.set_title('%s Radio Offset'%('Cl0023'), fontsize='large')\n",
      "for i in range(len(circles)):\n",
      "    mask = (matches['idx'] == i)\n",
      "    #mask_spec = (idx_spec == i)\n",
      "    #mask_real = (matches['idx'] == label[i])\n",
      "    #markS = (np.array(matches.loc[mask_real, 'lum']) - solar_lum)**3\n",
      "    obj = matches[mask]\n",
      "    deltaVel = abs(obj['spec_z'] - centerZ[i])\n",
      "    #sigmaVel = Vel\n",
      "    #r200 \n",
      "    #r d2d(arcmin)\n",
      "    r = obj['d2d(arcmin)'] * 60 * cosmology.arcsec_per_kpc_proper(obj['spec_z'])\n",
      "    x = r / r200[i]\n",
      "    y = deltaVel / Vel[i]\n",
      "    ax.scatter()\n",
      "    \n",
      "plt.xlabel(r'$\\deltaV/\\sigmaV$')\n",
      "plt.ylabel(r'$r/r_{200}$')   \n",
      "plt.show()"
     ],
     "language": "python",
     "metadata": {},
     "outputs": [
      {
       "ename": "AttributeError",
       "evalue": "'module' object has no attribute 'arcsec_per_kpc_proper'",
       "output_type": "pyerr",
       "traceback": [
        "\u001b[0;31m---------------------------------------------------------------------------\u001b[0m\n\u001b[0;31mAttributeError\u001b[0m                            Traceback (most recent call last)",
        "\u001b[0;32m<ipython-input-34-e66172c92bfa>\u001b[0m in \u001b[0;36m<module>\u001b[0;34m()\u001b[0m\n\u001b[1;32m     13\u001b[0m     \u001b[0;31m#r200\u001b[0m\u001b[0;34m\u001b[0m\u001b[0;34m\u001b[0m\u001b[0m\n\u001b[1;32m     14\u001b[0m     \u001b[0;31m#r d2d(arcmin)\u001b[0m\u001b[0;34m\u001b[0m\u001b[0;34m\u001b[0m\u001b[0m\n\u001b[0;32m---> 15\u001b[0;31m     \u001b[0mr\u001b[0m \u001b[0;34m=\u001b[0m \u001b[0mobj\u001b[0m\u001b[0;34m[\u001b[0m\u001b[0;34m'd2d(arcmin)'\u001b[0m\u001b[0;34m]\u001b[0m \u001b[0;34m*\u001b[0m \u001b[0;36m60\u001b[0m \u001b[0;34m*\u001b[0m \u001b[0mcosmology\u001b[0m\u001b[0;34m.\u001b[0m\u001b[0marcsec_per_kpc_proper\u001b[0m\u001b[0;34m(\u001b[0m\u001b[0mobj\u001b[0m\u001b[0;34m[\u001b[0m\u001b[0;34m'spec_z'\u001b[0m\u001b[0;34m]\u001b[0m\u001b[0;34m)\u001b[0m\u001b[0;34m\u001b[0m\u001b[0m\n\u001b[0m\u001b[1;32m     16\u001b[0m     \u001b[0mx\u001b[0m \u001b[0;34m=\u001b[0m \u001b[0mr\u001b[0m \u001b[0;34m/\u001b[0m \u001b[0mr200\u001b[0m\u001b[0;34m[\u001b[0m\u001b[0mi\u001b[0m\u001b[0;34m]\u001b[0m\u001b[0;34m\u001b[0m\u001b[0m\n\u001b[1;32m     17\u001b[0m     \u001b[0my\u001b[0m \u001b[0;34m=\u001b[0m \u001b[0mdeltaVel\u001b[0m \u001b[0;34m/\u001b[0m \u001b[0mVel\u001b[0m\u001b[0;34m[\u001b[0m\u001b[0mi\u001b[0m\u001b[0;34m]\u001b[0m\u001b[0;34m\u001b[0m\u001b[0m\n",
        "\u001b[0;31mAttributeError\u001b[0m: 'module' object has no attribute 'arcsec_per_kpc_proper'"
       ]
      }
     ],
     "prompt_number": 34
    },
    {
     "cell_type": "code",
     "collapsed": false,
     "input": [
      "del matches"
     ],
     "language": "python",
     "metadata": {},
     "outputs": [],
     "prompt_number": 149
    },
    {
     "cell_type": "code",
     "collapsed": false,
     "input": [
      "#import radio data\n",
      "matches_file = '../Radio_Optcial_matching/photo_match/Cl1604_1arcsec_matches.cat'\n",
      "cols_name = ['radio_ID','radio_RA','radio_DEC','lum','number','flag','photo_ID','ra','dec','z','slitmask','slitnum','spec_z']\n",
      "matches_data = pd.read_csv(matches_file, sep='\\s+', names=cols_name, comment='#')\n",
      "matches = pd.DataFrame(matches_data)\n",
      "centerZ = (0.8984, 0.8648, 0.9344, 0.9277, 0.9331, 0.9019, 0.8528, 0.9024)\n",
      "circles = ((241.09311,43.0821),(241.10796,43.2397),(241.03142,43.2679),(241.14094,43.3539),\n",
      "           (241.20104,43.3684),(240.92745,43.4030),(240.89890,43.3669),(240.79746,43.3915))\n",
      "vel = ((576.9 + 120.8),(792.9 + 80.1),(1079.6 + 289.6),(675.6 + 180.1),(619.9 + 135.0),(398.5 + 85.4),(283.2 + 71.7),(163.0 + 65.1)) \n",
      "#km/s using the max velocity dispersion 0.5Mpc\n",
      "deltaZ = 3 * np.divide(vel, c)\n",
      "label = ['A', 'B', 'C', 'D', 'F','G','H','I']"
     ],
     "language": "python",
     "metadata": {},
     "outputs": [],
     "prompt_number": 150
    },
    {
     "cell_type": "code",
     "collapsed": false,
     "input": [
      "photoMask = (matches['flag'] == 1)\n",
      "specMask = (matches['flag'] == 3)\n",
      "\n",
      "ra_photo = np.array(matches.loc[photoMask,'radio_RA'])\n",
      "dec_photo = np.array(matches.loc[photoMask,'radio_DEC'])\n",
      "dis_photo = ap.coordinates.Distance(z=matches.loc[photoMask,'z'])\n",
      "\n",
      "ra_spec = np.array(matches.loc[specMask,'radio_RA'])\n",
      "dec_spec = np.array(matches.loc[specMask,'radio_DEC'])\n",
      "dis_spec = ap.coordinates.Distance(z=matches.loc[specMask,'spec_z'])\n",
      "\n",
      "dis_center = ap.coordinates.Distance(z=centerZ)\n",
      "\n",
      "#match to coord\n",
      "coord_photo = SkyCoord(ra_photo*u.degree, dec_photo*u.degree, distance=dis_photo)\n",
      "coord_spec = SkyCoord(ra_spec*u.degree, dec_spec*u.degree, distance=dis_spec)\n",
      "coord_center = SkyCoord(circles*u.degree, distance=dis_center)\n",
      "\n",
      "idx_spec, d2d_spec, d3d_spec = coord_spec.match_to_catalog_sky(coord_center)  \n",
      "idx_photo, d2d_photo, d3d_photo = coord_photo.match_to_catalog_sky(coord_center)\n",
      "\n",
      "matches.loc[photoMask, 'idx'] = idx_photo\n",
      "matches.loc[photoMask, 'd2d(arcmin)'] = d2d_photo.arcmin\n",
      "matches.loc[photoMask, 'd3d'] = d3d_photo\n",
      "matches.loc[specMask, 'idx'] = idx_spec\n",
      "matches.loc[specMask, 'd2d(arcmin)'] = d2d_spec.arcmin\n",
      "matches.loc[specMask, 'd3d'] = d3d_spec\n",
      "\n",
      "for i in range(len(circles)):\n",
      "    mask = (matches['idx'] == i)\n",
      "    maskReal = (matches['idx'] == i) & (matches['d2d(arcmin)'] < 1.09) & (matches['spec_z'] < (centerZ[i] + deltaZ[i])) & (matches['spec_z'] > (centerZ[i] - deltaZ[i]))\n",
      "    \n",
      "    char =  np.chararray(len(matches[maskReal]))\n",
      "    char[:] = label[i]\n",
      "    print len(char)\n",
      "    matches.loc[maskReal,'idx'] = char\n",
      "\n",
      "out = matches[specMask | photoMask]\n",
      "#out['idx'] = out['idx'].astype('int')\n",
      "out.to_csv('../RadioOffset/Cl1604.cat', sep='\\t', float_format='%.5f', index=False)"
     ],
     "language": "python",
     "metadata": {},
     "outputs": [
      {
       "output_type": "stream",
       "stream": "stdout",
       "text": [
        "2\n",
        "4\n",
        "0\n",
        "1\n",
        "2\n",
        "1\n",
        "0\n",
        "0\n"
       ]
      }
     ],
     "prompt_number": 151
    },
    {
     "cell_type": "code",
     "collapsed": false,
     "input": [
      "colors = ['red','orange','g','b', 'c', 'y', 'm','k']\n",
      "\n",
      "markSize_photo = (np.array(matches.loc[photoMask, 'lum']) - solar_lum)**3\n",
      "markSize_spec = (np.array(matches.loc[specMask, 'lum']) - solar_lum)**3\n",
      "\n",
      "f, ax = plt.subplots(1, 1, figsize=(12,16))\n",
      "ax.set_title('%s Radio Offset Scatter'%('Cl1604'), fontsize=12)\n",
      "for i in range(len(circles)):\n",
      "    mask = (idx_photo == i)\n",
      "    mask_spec = (idx_spec == i)\n",
      "    mask_real = (matches['idx'] == label[i])\n",
      "    markS = (np.array(matches.loc[mask_real, 'lum']) - solar_lum)**3\n",
      "    \n",
      "    ax.scatter(ra_photo[mask], dec_photo[mask], facecolors='none', edgecolors=colors[i], s=markSize_photo[mask]/4, marker='o',label='Photometric')\n",
      "    ax.scatter(ra_spec[mask_spec], dec_spec[mask_spec], facecolors='none', edgecolors=colors[i], s=markSize_spec[mask_spec], marker='*', label='Spectroscopy')\n",
      "    ax.scatter(matches.loc[mask_real, 'radio_RA'], matches.loc[mask_real, 'radio_DEC'], facecolors=colors[i], edgecolors='none', s=markS, marker='*')\n",
      "    circle = plt.Circle(circles[i],0.016, color=colors[i], fill=False, linestyle='dashed', label='%s'%(i+1))\n",
      "    ax.annotate('%s'%label[i], xy=(circles[i][0], circles[i][1]),xycoords='data',color=colors[i], xytext=(-30, 20), textcoords='offset points', horizontalalignment='left', verticalalignment='top',fontsize=16)\n",
      "    plt.gca().add_artist(circle)\n",
      "#ad annotation for photo & spec\n",
      "plt.gca().invert_xaxis()\n",
      "plt.xlabel('RA')\n",
      "plt.ylabel('Dec') \n",
      "#plt.tight_layout()\n",
      "plt.show()"
     ],
     "language": "python",
     "metadata": {},
     "outputs": [],
     "prompt_number": 152
    },
    {
     "cell_type": "code",
     "collapsed": false,
     "input": [
      "plt.title(\"Cl1604 Histogram of offset from clusters/groups\")\n",
      "plt.hist(d2d_spec.arcmin, bins=25, range=(0,18), alpha=0.5, color='r', label='Radio with Spectroscopy counterpart')\n",
      "plt.hist(d2d_photo.arcmin, bins=25, range=(0,18), alpha=0.5, color='b', label='Radio with Photometric counterpart')\n",
      "plt.xlabel('Sepertaion(arcmin)')\n",
      "plt.ylabel('Num of objects')\n",
      "plt.legend(fontsize='small')\n",
      "plt.show()"
     ],
     "language": "python",
     "metadata": {},
     "outputs": [],
     "prompt_number": 129
    },
    {
     "cell_type": "code",
     "collapsed": false,
     "input": [
      "del matches"
     ],
     "language": "python",
     "metadata": {},
     "outputs": [],
     "prompt_number": 153
    },
    {
     "cell_type": "code",
     "collapsed": false,
     "input": [
      "matches_file = '../Radio_Optcial_matching/photo_match/NEP5281_1arcsec_matches.cat'\n",
      "cols_name = ['radio_ID','radio_RA','radio_DEC','lum','number','flag','photo_ID','ra','dec','z','slitmask','slitnum','spec_z']\n",
      "matches_data = pd.read_csv(matches_file, sep='\\s+', names=cols_name, comment='#')\n",
      "matches = pd.DataFrame(matches_data)\n",
      "circles = ((275.38451, 68.465768),(0.,0.))\n",
      "centerZ = (0.8168, 0)\n",
      "vel = ((1146.1 + 124.8),0.)\n",
      "deltaZ = 3 * np.divide(vel, c)\n",
      "label = ['A','NA']"
     ],
     "language": "python",
     "metadata": {},
     "outputs": [],
     "prompt_number": 154
    },
    {
     "cell_type": "code",
     "collapsed": false,
     "input": [
      "photoMask = (matches['flag'] == 1)\n",
      "specMask = (matches['flag'] == 3)\n",
      "\n",
      "ra_photo = np.array(matches.loc[photoMask,'radio_RA'])\n",
      "dec_photo = np.array(matches.loc[photoMask,'radio_DEC'])\n",
      "dis_photo = ap.coordinates.Distance(z=matches.loc[photoMask,'z'])\n",
      "\n",
      "ra_spec = np.array(matches.loc[specMask,'radio_RA'])\n",
      "dec_spec = np.array(matches.loc[specMask,'radio_DEC'])\n",
      "dis_spec = ap.coordinates.Distance(z=matches.loc[specMask,'spec_z'])\n",
      "\n",
      "dis_center = ap.coordinates.Distance(z=centerZ)\n",
      "\n",
      "#match to coord\n",
      "coord_photo = SkyCoord(ra_photo*u.degree, dec_photo*u.degree, distance=dis_photo)\n",
      "coord_spec = SkyCoord(ra_spec*u.degree, dec_spec*u.degree, distance=dis_spec)\n",
      "coord_center = SkyCoord(circles*u.degree, distance=dis_center)\n",
      "\n",
      "idx_spec, d2d_spec, d3d_spec = coord_spec.match_to_catalog_sky(coord_center)  \n",
      "idx_photo, d2d_photo, d3d_photo = coord_photo.match_to_catalog_sky(coord_center)\n",
      "\n",
      "matches.loc[photoMask, 'idx'] = idx_photo\n",
      "matches.loc[photoMask, 'd2d(arcmin)'] = d2d_photo.arcmin\n",
      "matches.loc[photoMask, 'd3d'] = d3d_photo\n",
      "matches.loc[specMask, 'idx'] = idx_spec\n",
      "matches.loc[specMask, 'd2d(arcmin)'] = d2d_spec.arcmin\n",
      "matches.loc[specMask, 'd3d'] = d3d_spec\n",
      "\n",
      "for i in range(len(circles)):\n",
      "    mask = (matches['idx'] == i)\n",
      "    maskReal = (matches['idx'] == i) & (matches['d2d(arcmin)'] < 1.09) & (matches['spec_z'] < (centerZ[i] + deltaZ[i])) & (matches['spec_z'] > (centerZ[i] - deltaZ[i]))\n",
      "    \n",
      "    char =  np.chararray(len(matches[maskReal]))\n",
      "    char[:] = label[i]\n",
      "    print len(char)\n",
      "    matches.loc[maskReal,'idx'] = char\n",
      "\n",
      "out = matches[specMask | photoMask]\n",
      "#out['idx'] = out['idx'].astype('int')\n",
      "out.to_csv('../RadioOffset/NEP5281.cat', sep='\\t', float_format='%.5f', index=False)"
     ],
     "language": "python",
     "metadata": {},
     "outputs": [
      {
       "output_type": "stream",
       "stream": "stdout",
       "text": [
        "2\n",
        "0\n"
       ]
      }
     ],
     "prompt_number": 156
    },
    {
     "cell_type": "code",
     "collapsed": false,
     "input": [
      "colors = ['red','orange','g','b', 'c', 'y', 'm','k']\n",
      "\n",
      "markSize_photo = (np.array(matches.loc[photoMask, 'lum']) - solar_lum)**3\n",
      "markSize_spec = (np.array(matches.loc[specMask, 'lum']) - solar_lum)**3\n",
      "\n",
      "f, ax = plt.subplots(1, 1, figsize=(16,9))\n",
      "ax.set_title('%s Radio Offset Scatter'%('NEP5281'), fontsize=12)\n",
      "for i in range(len(circles)):\n",
      "    mask = (idx_photo == i)\n",
      "    mask_spec = (idx_spec == i)\n",
      "    mask_real = (matches['idx'] == label[i])\n",
      "    markS = (np.array(matches.loc[mask_real, 'lum']) - solar_lum)**3\n",
      "    \n",
      "    ax.scatter(ra_photo[mask], dec_photo[mask], facecolors='none', edgecolors=colors[i], s=markSize_photo[mask]/4, marker='o',label='Photometric')\n",
      "    ax.scatter(ra_spec[mask_spec], dec_spec[mask_spec], facecolors='none', edgecolors=colors[i], s=markSize_spec[mask_spec], marker='*', label='Spectroscopy')\n",
      "    ax.scatter(matches.loc[mask_real, 'radio_RA'], matches.loc[mask_real, 'radio_DEC'], facecolors=colors[i], edgecolors='none', s=markS, marker='*')\n",
      "    circle = plt.Circle(circles[i],0.016, color=colors[i], fill=False, linestyle='dashed', label='%s'%(i+1))\n",
      "    ax.annotate('%s'%label[i], xy=(circles[i][0], circles[i][1]),xycoords='data',color=colors[i], xytext=(-30, 20), textcoords='offset points', horizontalalignment='left', verticalalignment='top',fontsize=16)\n",
      "    plt.gca().add_artist(circle)\n",
      "#ad annotation for photo & spec\n",
      "plt.gca().invert_xaxis()\n",
      "plt.xlabel('RA')\n",
      "plt.ylabel('Dec') \n",
      "#plt.tight_layout()\n",
      "plt.show()"
     ],
     "language": "python",
     "metadata": {},
     "outputs": [],
     "prompt_number": 159
    },
    {
     "cell_type": "code",
     "collapsed": false,
     "input": [
      "#critical density\n",
      "z = 0\n",
      "Hz = WMAP7.H(z) #[km/Mpc s]\n",
      "#cRho = WMAP7.critical_density(z)\n",
      "#M = (4/3)*pi*r200**3 * 200 * cRho\n",
      "r200 = np.sqrt(3) * vel / (10 * Hz) #vel in [km/s] "
     ],
     "language": "python",
     "metadata": {},
     "outputs": [
      {
       "ename": "NameError",
       "evalue": "name 'km' is not defined",
       "output_type": "pyerr",
       "traceback": [
        "\u001b[0;31m---------------------------------------------------------------------------\u001b[0m\n\u001b[0;31mNameError\u001b[0m                                 Traceback (most recent call last)",
        "\u001b[0;32m<ipython-input-165-c30b3c02e556>\u001b[0m in \u001b[0;36m<module>\u001b[0;34m()\u001b[0m\n\u001b[1;32m      4\u001b[0m \u001b[0;31m#cRho = WMAP7.critical_density(z)\u001b[0m\u001b[0;34m\u001b[0m\u001b[0;34m\u001b[0m\u001b[0m\n\u001b[1;32m      5\u001b[0m \u001b[0;31m#M = (4/3)*pi*r200**3 * 200 * cRho\u001b[0m\u001b[0;34m\u001b[0m\u001b[0;34m\u001b[0m\u001b[0m\n\u001b[0;32m----> 6\u001b[0;31m \u001b[0mvel\u001b[0m\u001b[0;34m.\u001b[0m\u001b[0munit\u001b[0m \u001b[0;34m=\u001b[0m \u001b[0mkm\u001b[0m\u001b[0;34m/\u001b[0m\u001b[0ms\u001b[0m\u001b[0;34m\u001b[0m\u001b[0m\n\u001b[0m\u001b[1;32m      7\u001b[0m \u001b[0mr200\u001b[0m \u001b[0;34m=\u001b[0m \u001b[0mnp\u001b[0m\u001b[0;34m.\u001b[0m\u001b[0msqrt\u001b[0m\u001b[0;34m(\u001b[0m\u001b[0;36m3\u001b[0m\u001b[0;34m)\u001b[0m \u001b[0;34m*\u001b[0m \u001b[0mvel\u001b[0m \u001b[0;34m/\u001b[0m \u001b[0;34m(\u001b[0m\u001b[0;36m10\u001b[0m \u001b[0;34m*\u001b[0m \u001b[0mHz\u001b[0m\u001b[0;34m)\u001b[0m \u001b[0;31m#vel in [km/s]\u001b[0m\u001b[0;34m\u001b[0m\u001b[0m\n",
        "\u001b[0;31mNameError\u001b[0m: name 'km' is not defined"
       ]
      }
     ],
     "prompt_number": 165
    },
    {
     "cell_type": "code",
     "collapsed": false,
     "input": [
      "r200"
     ],
     "language": "python",
     "metadata": {},
     "outputs": [
      {
       "latex": [
        "$[1.8052557,~0] \\; \\mathrm{\\frac{Mpc\\,s}{km}}$"
       ],
       "metadata": {},
       "output_type": "pyout",
       "prompt_number": 162,
       "text": [
        "<Quantity [ 1.80525568, 0.        ] Mpc s / km>"
       ]
      }
     ],
     "prompt_number": 162
    },
    {
     "cell_type": "code",
     "collapsed": false,
     "input": [
      "vel"
     ],
     "language": "python",
     "metadata": {},
     "outputs": [
      {
       "metadata": {},
       "output_type": "pyout",
       "prompt_number": 163,
       "text": [
        "(1270.8999999999999, 0.0)"
       ]
      }
     ],
     "prompt_number": 163
    },
    {
     "cell_type": "code",
     "collapsed": false,
     "input": [
      "Hz"
     ],
     "language": "python",
     "metadata": {},
     "outputs": [
      {
       "latex": [
        "$70.4 \\; \\mathrm{\\frac{km}{Mpc\\,s}}$"
       ],
       "metadata": {},
       "output_type": "pyout",
       "prompt_number": 164,
       "text": [
        "<Quantity 70.4 km / (Mpc s)>"
       ]
      }
     ],
     "prompt_number": 164
    },
    {
     "cell_type": "code",
     "collapsed": false,
     "input": [],
     "language": "python",
     "metadata": {},
     "outputs": []
    }
   ],
   "metadata": {}
  }
 ]
}